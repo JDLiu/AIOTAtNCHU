{
  "nbformat": 4,
  "nbformat_minor": 0,
  "metadata": {
    "colab": {
      "name": "AIOT_Linear+Sigmoid+Perceptron.ipynb",
      "provenance": [],
      "include_colab_link": true
    },
    "kernelspec": {
      "name": "python3",
      "display_name": "Python 3"
    }
  },
  "cells": [
    {
      "cell_type": "markdown",
      "metadata": {
        "id": "view-in-github",
        "colab_type": "text"
      },
      "source": [
        "<a href=\"https://colab.research.google.com/github/JDLiu/AIOTAtNCHU/blob/main/AIOT_Linear%2BSigmoid%2BPerceptron.ipynb\" target=\"_parent\"><img src=\"https://colab.research.google.com/assets/colab-badge.svg\" alt=\"Open In Colab\"/></a>"
      ]
    },
    {
      "cell_type": "markdown",
      "metadata": {
        "id": "zTY8aiU1Az9K"
      },
      "source": [
        "*L12*-1 Linear Classification Regression using Pytorch nn.Linear with sigmoid(Perceptron)"
      ]
    },
    {
      "cell_type": "markdown",
      "metadata": {
        "id": "uEYVp21WA80J"
      },
      "source": [
        "Step 1: install lib and generates data"
      ]
    },
    {
      "cell_type": "code",
      "metadata": {
        "id": "NoCI7g_V4xw6",
        "colab": {
          "base_uri": "https://localhost:8080/"
        },
        "outputId": "5b6a7ce3-1473-4ddc-ad11-978bffa19bed"
      },
      "source": [
        "!pip install torch\n",
        "import torch\n",
        "import torch.nn as nn\n",
        "import matplotlib.pyplot as plt\n",
        "import numpy as np\n",
        "\n",
        "from sklearn import datasets"
      ],
      "execution_count": null,
      "outputs": [
        {
          "output_type": "stream",
          "text": [
            "Requirement already satisfied: torch in /usr/local/lib/python3.6/dist-packages (1.7.0+cu101)\n",
            "Requirement already satisfied: numpy in /usr/local/lib/python3.6/dist-packages (from torch) (1.18.5)\n",
            "Requirement already satisfied: typing-extensions in /usr/local/lib/python3.6/dist-packages (from torch) (3.7.4.3)\n",
            "Requirement already satisfied: future in /usr/local/lib/python3.6/dist-packages (from torch) (0.16.0)\n",
            "Requirement already satisfied: dataclasses in /usr/local/lib/python3.6/dist-packages (from torch) (0.8)\n"
          ],
          "name": "stdout"
        }
      ]
    },
    {
      "cell_type": "code",
      "metadata": {
        "id": "asRDoINOOQHJ"
      },
      "source": [
        "model=nn.Linear(2,1)\n",
        "def get_param():\n",
        "  [w,b]=model.parameters()\n",
        "  w1,w2=w.view(2)\n",
        "  #item取出原形\n",
        "  return w[0][0].item(),w[0][1].item(),b[0].item()\n",
        "  #return w1.item(),w2.item(),b[0].item()"
      ],
      "execution_count": null,
      "outputs": []
    },
    {
      "cell_type": "code",
      "metadata": {
        "colab": {
          "base_uri": "https://localhost:8080/",
          "height": 265
        },
        "id": "wkn0JXxhBUlb",
        "outputId": "379b095b-f880-46f7-c595-2eaf6c39a48b"
      },
      "source": [
        "nPoint=200\n",
        "center=[[-0.5,0.5],[0.5,-0.5]]\n",
        "data,y=datasets.make_blobs(n_samples=nPoint,random_state=2,centers=center,cluster_std=0.2)\n",
        "\n",
        "def scatter_plot():\n",
        "  plt.scatter(data[y==0,0],data[y==0,1])\n",
        "  plt.scatter(data[y==1,0],data[y==1,1])\n",
        "\n",
        "def plot_fit():\n",
        "  x1=np.array([-2,2])\n",
        "  w1,w2,b=get_param()\n",
        "  x2=(w1*x1+b)/(-w2)\n",
        "  plt.plot(x1,x2,'r')\n",
        "\n",
        "\n",
        "scatter_plot()\n",
        "plot_fit()"
      ],
      "execution_count": null,
      "outputs": [
        {
          "output_type": "display_data",
          "data": {
            "image/png": "[encoded data removed]",
            "text/plain": [
              "<Figure size 432x288 with 1 Axes>"
            ]
          },
          "metadata": {
            "tags": [],
            "needs_background": "light"
          }
        }
      ]
    },
    {
      "cell_type": "markdown",
      "metadata": {
        "id": "anwdSRM_Bm1W"
      },
      "source": [
        "Step 2: Build model and some utility function"
      ]
    },
    {
      "cell_type": "code",
      "metadata": {
        "id": "KlB7NxenS-H0"
      },
      "source": [
        "#建立一個網路\n",
        "class myModel(nn.Module):\n",
        "  def __init__(self,ibn,oubt):\n",
        "    super().__init__()\n",
        "    self.linear=nn.Linear(ibn,oubt)\n",
        "  def forward(self,x):\n",
        "    x=self.linear(x)\n",
        "    pred=torch.sigmoid(x)\n",
        "    return pred\n",
        "  def predict(self,x):\n",
        "    #二分法\n",
        "    predict=self.forward(x)\n",
        "    if predict >0.05:\n",
        "      return 1\n",
        "    else:\n",
        "      return 0"
      ],
      "execution_count": null,
      "outputs": []
    },
    {
      "cell_type": "code",
      "metadata": {
        "id": "MVXjgrqZBlzS"
      },
      "source": [
        "model=myModel(2,1)\n",
        "criterion=nn.BCELoss()\n",
        "optimizer=torch.optim.SGD(model.parameters(),lr=0.02)\n"
      ],
      "execution_count": null,
      "outputs": []
    },
    {
      "cell_type": "markdown",
      "metadata": {
        "id": "glF1TtabEjyr"
      },
      "source": [
        "Step 3:Train Model"
      ]
    },
    {
      "cell_type": "code",
      "metadata": {
        "colab": {
          "base_uri": "https://localhost:8080/",
          "height": 513
        },
        "id": "RHXk6CpfEifS",
        "outputId": "ee4a37ab-1df2-4177-92f7-516196552a55"
      },
      "source": [
        "epochs=5000\n",
        "losses=[]\n",
        "xx=torch.Tensor(data)\n",
        "yy=torch.Tensor(y.reshape(nPoint,1))\n",
        "for epoch in range(epochs):\n",
        "  yPred=model.forward(xx)\n",
        "  loss=criterion(yPred,yy)\n",
        "\n",
        "  losses.append(loss.item())\n",
        "  #權重歸零\n",
        "  optimizer.zero_grad()\n",
        "  #反饋Loss狀況到網路中\n",
        "  loss.backward()\n",
        "  #更新\n",
        "  optimizer.step()\n",
        "\n",
        "plt.plot(range(epochs),losses)\n",
        "plt.show()\n",
        "scatter_plot()\n",
        "plot_fit()"
      ],
      "execution_count": null,
      "outputs": [
        {
          "output_type": "display_data",
          "data": {
            "image/png": "[encoded data removed]",
            "text/plain": [
              "<Figure size 432x288 with 1 Axes>"
            ]
          },
          "metadata": {
            "tags": [],
            "needs_background": "light"
          }
        },
        {
          "output_type": "display_data",
          "data": {
            "image/png": "[encoded data removed]",
            "text/plain": [
              "<Figure size 432x288 with 1 Axes>"
            ]
          },
          "metadata": {
            "tags": [],
            "needs_background": "light"
          }
        }
      ]
    },
    {
      "cell_type": "markdown",
      "metadata": {
        "id": "jj4v5Bhj7W3Y"
      },
      "source": [
        "複習: 使用python 自己寫linear regression\n"
      ]
    },
    {
      "cell_type": "code",
      "metadata": {
        "id": "u-6tBPla7d7c",
        "colab": {
          "base_uri": "https://localhost:8080/",
          "height": 299
        },
        "outputId": "04411f78-e8c5-40ab-aed5-1fb6a475a6c5"
      },
      "source": [
        "import numpy as np\n",
        "import matplotlib.pyplot as plt\n",
        "import random\n",
        "\n",
        "X = [1.0,2.0,3.0]\n",
        "Y = [2.0,4.0,6.0]\n",
        "\n",
        "w=random.random()\n",
        "print(w)\n",
        "def _forward(x):\n",
        "  return x*w\n",
        "\n",
        "def loss(x,y):\n",
        "  _yPred=_forward(x)\n",
        "  return (_yPred-y)*(_yPred-y)\n",
        "  \n",
        "def gradient(x,y):\n",
        "  return 2*x*(w*x-y)\n",
        "\n",
        "\n",
        "w_list=[]\n",
        "J_list=[]\n",
        "epoch_list=[]\n",
        "alpha =0.01\n",
        "minW=-100.0\n",
        "minJ=1000.0\n",
        "for epoch in range(20):\n",
        "  l_sum=0\n",
        "  for x,y in zip(X,Y):\n",
        "    grad=gradient(x,y)\n",
        "    w = w -alpha *grad\n",
        "    _l=loss(x,y)\n",
        "    l_sum +=_l\n",
        "  \n",
        "  if (l_sum < minJ):\n",
        "    minW = w\n",
        "    minJ=l_sum\n",
        "  w_list.append(w)\n",
        "  epoch_list.append(epoch)\n",
        "  J_list.append(l_sum/len(X))\n",
        "  \n",
        "\n",
        "# plt.plot(w_list,J_list)\n",
        "plt.plot(epoch_list,J_list)\n",
        "plt.show()\n",
        "print(minW,minJ,epoch)"
      ],
      "execution_count": null,
      "outputs": [
        {
          "output_type": "stream",
          "text": [
            "0.2350440846318661\n"
          ],
          "name": "stdout"
        },
        {
          "output_type": "display_data",
          "data": {
            "image/png": "[encoded data removed]",
            "text/plain": [
              "<Figure size 432x288 with 1 Axes>"
            ]
          },
          "metadata": {
            "tags": [],
            "needs_background": "light"
          }
        },
        {
          "output_type": "stream",
          "text": [
            "1.995799616240945 0.00029474664805795547 19\n"
          ],
          "name": "stdout"
        }
      ]
    },
    {
      "cell_type": "code",
      "metadata": {
        "id": "xc4fUIbO7ebE"
      },
      "source": [
        ""
      ],
      "execution_count": null,
      "outputs": []
    }
  ]
}